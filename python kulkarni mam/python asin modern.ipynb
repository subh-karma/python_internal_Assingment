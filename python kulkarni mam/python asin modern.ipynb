{
 "cells": [
  {
   "cell_type": "markdown",
   "id": "0df24361",
   "metadata": {},
   "source": [
    "# 1. Create a program that asks the user to enter their name and their age. Print out a\n",
    "message addressed to them that tells them the year that they will turn 100 years old"
   ]
  },
  {
   "cell_type": "code",
   "execution_count": 1,
   "id": "eae0d479",
   "metadata": {},
   "outputs": [
    {
     "name": "stdout",
     "output_type": "stream",
     "text": [
      "Enter your name: subhasish\n",
      "Enter your age: 22\n",
      "Hello, subhasish! You will turn 100 years old in the year 2101.\n"
     ]
    }
   ],
   "source": [
    "name = input(\"Enter your name: \")\n",
    "age = int(input(\"Enter your age: \"))\n",
    "current_year = 2023  # You can update this with the current year\n",
    "year_turn_100 = current_year + (100 - age)\n",
    "message = f\"Hello, {name}! You will turn 100 years old in the year {year_turn_100}.\"\n",
    "print(message)"
   ]
  },
  {
   "cell_type": "markdown",
   "id": "7eb0d10d",
   "metadata": {},
   "source": [
    "# 2. Write a program to check whether the number is even or odd, print out an\n",
    "appropriate message to the user. "
   ]
  },
  {
   "cell_type": "code",
   "execution_count": 2,
   "id": "d98556f1",
   "metadata": {},
   "outputs": [
    {
     "name": "stdout",
     "output_type": "stream",
     "text": [
      "Enter the number :5\n",
      "The 5 is odd\n"
     ]
    }
   ],
   "source": [
    "num = int(input(\"Enter the number :\"))\n",
    "\n",
    "if num%2==0 :\n",
    "    print(f\"The {num} is even\")\n",
    "else :\n",
    "    print(f\"The {num} is odd\")"
   ]
  },
  {
   "cell_type": "markdown",
   "id": "25935caf",
   "metadata": {},
   "source": [
    "# 3. Write a program which will find all such numbers which are divisible by 7"
   ]
  },
  {
   "cell_type": "code",
   "execution_count": 3,
   "id": "8a504512",
   "metadata": {},
   "outputs": [
    {
     "name": "stdout",
     "output_type": "stream",
     "text": [
      "Enter the start of the range: 1\n",
      "Enter the end of the range: 10\n",
      "Numbers divisible by 7 in the range from 1 to 10 :\n",
      "7\n"
     ]
    }
   ],
   "source": [
    "start = int(input(\"Enter the start of the range: \"))\n",
    "end = int(input(\"Enter the end of the range: \"))\n",
    "\n",
    "divisible_by_7 = []\n",
    "\n",
    "for number in range(start, end + 1):\n",
    "    if number % 7 == 0:\n",
    "        divisible_by_7.append(number)\n",
    "\n",
    "if divisible_by_7:\n",
    "    print(\"Numbers divisible by 7 in the range from\" ,start, \"to\" ,end,\":\")\n",
    "    for num in divisible_by_7:\n",
    "        print(num)\n",
    "else:\n",
    "    print(f\"There are no numbers divisible by 7 in the range from\",start, \"to\" ,end,\".\")\n"
   ]
  },
  {
   "cell_type": "markdown",
   "id": "214f52b9",
   "metadata": {},
   "source": [
    "# 4. Write a program which can compute the factorial of a given numbers."
   ]
  },
  {
   "cell_type": "code",
   "execution_count": 4,
   "id": "c944f712",
   "metadata": {},
   "outputs": [
    {
     "name": "stdout",
     "output_type": "stream",
     "text": [
      "Enter a number: 5\n",
      "The factorial of 5 is 120\n"
     ]
    }
   ],
   "source": [
    "num = int(input(\"Enter a number: \"))\n",
    "\n",
    "def facto(n):\n",
    "    if n == 0:\n",
    "        return 1\n",
    "    else:\n",
    "        return n * facto(n - 1)\n",
    "\n",
    "if num < 0:\n",
    "    print(\"Factorial is not defined for negative numbers.\")\n",
    "elif num == 0:\n",
    "    print(\"The factorial of 0 is 1\")\n",
    "else:\n",
    "    result = facto(num)\n",
    "    print(f\"The factorial of {num} is {result}\")\n"
   ]
  },
  {
   "cell_type": "markdown",
   "id": "a49963dc",
   "metadata": {},
   "source": [
    "\n",
    "# 5. Write a program that prints out all the elements of the list that are less than 10."
   ]
  },
  {
   "cell_type": "code",
   "execution_count": 6,
   "id": "a1dc7465",
   "metadata": {},
   "outputs": [
    {
     "name": "stdout",
     "output_type": "stream",
     "text": [
      "Element less than 10 are :\n",
      "2\n",
      "5\n",
      "6\n",
      "7\n",
      "8\n",
      "9\n"
     ]
    }
   ],
   "source": [
    "number =[2,33,5,6,44,7,34,8,34,9,12,10,11]\n",
    "print(\"Element less than 10 are :\")\n",
    "for num in number:\n",
    "    if num<10:\n",
    "        print(num)"
   ]
  },
  {
   "cell_type": "markdown",
   "id": "700e7ade",
   "metadata": {},
   "source": [
    "# 6. Write a program that returns a list that contains only the elements that are\n",
    "common between the lists (without duplicates). Make sure your program works on\n",
    "two lists of different sizes. "
   ]
  },
  {
   "cell_type": "code",
   "execution_count": 8,
   "id": "2313a4e7",
   "metadata": {},
   "outputs": [
    {
     "name": "stdout",
     "output_type": "stream",
     "text": [
      "List do not have same length \n",
      "{44}\n"
     ]
    }
   ],
   "source": [
    "l1=[333,444,55,76,98,33,7876,44,55]\n",
    "l2=[22,44,5,367,77,556,78,54,77,44]\n",
    "if len(l1)==len(l2):\n",
    "    print(\"list have samelength\")\n",
    "else:\n",
    "    print(\"List do not have same length \")\n",
    "    print(set(l1).intersection(l2))"
   ]
  },
  {
   "cell_type": "markdown",
   "id": "b1c4d2a4",
   "metadata": {},
   "source": [
    "# 7. To determine whether the number is prime or not.\n"
   ]
  },
  {
   "cell_type": "code",
   "execution_count": 13,
   "id": "dacda1e1",
   "metadata": {},
   "outputs": [
    {
     "name": "stdout",
     "output_type": "stream",
     "text": [
      "29 is a prime number\n"
     ]
    }
   ],
   "source": [
    "\n",
    "num = 29\n",
    "flag = False\n",
    "if num == 1:\n",
    "    print(num, \"is not a prime number\")\n",
    "elif num > 1:\n",
    "    for i in range(2, num):\n",
    "        if (num % i) == 0:\n",
    "            flag = True\n",
    "            break\n",
    "    if flag:\n",
    "        print(num, \"is not a prime number\")\n",
    "    else:\n",
    "        print(num, \"is a prime number\")"
   ]
  },
  {
   "cell_type": "markdown",
   "id": "fb88434d",
   "metadata": {},
   "source": [
    "# 8. To check whether a number is palindrome or not. \n"
   ]
  },
  {
   "cell_type": "code",
   "execution_count": 22,
   "id": "dcd1194a",
   "metadata": {},
   "outputs": [
    {
     "name": "stdout",
     "output_type": "stream",
     "text": [
      "its a palindrom\n"
     ]
    }
   ],
   "source": [
    "num=696\n",
    "snum=str(num)\n",
    "rev=snum[::-1]\n",
    "if snum==rev:\n",
    "    print(\"Its a palindrom\")\n",
    "else:\n",
    "    print(\"Its not palindrom\")\n"
   ]
  },
  {
   "cell_type": "markdown",
   "id": "5673ead3",
   "metadata": {},
   "source": [
    "# 9. Write a program that asks the user how many Fibonnaci numbers to generate and\n",
    "then generates them. "
   ]
  },
  {
   "cell_type": "code",
   "execution_count": 23,
   "id": "efd08089",
   "metadata": {},
   "outputs": [
    {
     "name": "stdout",
     "output_type": "stream",
     "text": [
      "Enter the number of Fibonacci numbers to generate:9\n",
      "Generated Fibonacci numbers:\n",
      "0\n",
      "1\n",
      "1\n",
      "2\n",
      "3\n",
      "5\n",
      "8\n",
      "13\n",
      "21\n"
     ]
    }
   ],
   "source": [
    "def generate_fibonacci(n):\n",
    "    fibonacci_sequence = []\n",
    "\n",
    "    if n <= 0:\n",
    "        return fibonacci_sequence\n",
    "\n",
    "    a, b = 0, 1\n",
    "    fibonacci_sequence.append(a)\n",
    "\n",
    "    for _ in range(1, n):\n",
    "        a, b = b, a + b\n",
    "        fibonacci_sequence.append(a)\n",
    "\n",
    "    return fibonacci_sequence\n",
    "\n",
    "num_terms = int(input(\"Enter the number of Fibonacci numbers to generate:\"))\n",
    "\n",
    "fibonacci_numbers = generate_fibonacci(num_terms)\n",
    "\n",
    "if len(fibonacci_numbers) == 0:\n",
    "    print(\"No Fibonacci numbers to generate.\")\n",
    "else:\n",
    "    print(\"Generated Fibonacci numbers:\")\n",
    "    for num in fibonacci_numbers:\n",
    "        print(num)\n"
   ]
  },
  {
   "cell_type": "markdown",
   "id": "365b186d",
   "metadata": {},
   "source": [
    "# 10. Write a program (using functions!) that asks the user for a long string containing\n",
    "multiple words. Print back to the user the same string, except with the words in\n",
    "backwards order. E.g “ I am Msc student” is :”student Msc am I”"
   ]
  },
  {
   "cell_type": "code",
   "execution_count": 24,
   "id": "8fc12950",
   "metadata": {},
   "outputs": [
    {
     "name": "stdout",
     "output_type": "stream",
     "text": [
      "Enter you string : hey am subhasish karmkar \n",
      "hey am subhasish karmkar \n",
      "['hey', 'am', 'subhasish', 'karmkar', '']\n",
      " karmkar subhasish am hey\n"
     ]
    }
   ],
   "source": [
    "inputString = input(\"Enter you string : \")\n",
    "print(inputString)\n",
    "inputString = inputString.split(\" \")\n",
    "print(inputString)\n",
    "inputString.reverse()\n",
    "inputString = \" \".join(inputString)\n",
    "print(inputString)"
   ]
  },
  {
   "cell_type": "markdown",
   "id": "02ed77d2",
   "metadata": {},
   "source": [
    "# 11. Write a program to implement binary search to search the given element using\n",
    "function. "
   ]
  },
  {
   "cell_type": "code",
   "execution_count": 59,
   "id": "5347bfd0",
   "metadata": {},
   "outputs": [
    {
     "name": "stdout",
     "output_type": "stream",
     "text": [
      "Enter the element to search:4555\n",
      "The element 4555 is not found in the list.\n"
     ]
    }
   ],
   "source": [
    "def binary_search(arr, target):\n",
    "    left, right = 0, len(arr) - 1\n",
    "\n",
    "    while left <= right:\n",
    "        mid = (left + right) // 2\n",
    "\n",
    "        if arr[mid] == target:\n",
    "            return mid  \n",
    "        elif arr[mid] < target:\n",
    "            left = mid + 1\n",
    "        else:\n",
    "            right = mid - 1\n",
    "\n",
    "    return -1  \n",
    "\n",
    "sorted_list = [1, 2, 3, 4, 5, 6, 7, 8, 9]\n",
    "search_element = int(input(\"Enter the element to search:\"))\n",
    "\n",
    "result = binary_search(sorted_list, search_element)\n",
    "\n",
    "if result != -1:\n",
    "    print(f\"The element {search_element} is found at index {result}.\")\n",
    "else:\n",
    "    print(f\"The element {search_element} is not found in the list.\")\n"
   ]
  },
  {
   "cell_type": "markdown",
   "id": "180cbc6d",
   "metadata": {},
   "source": [
    "# 12. Given a .txt file that has a list of a bunch of names, count how many of each\n",
    "name there are in the file, and print out the results to the screen. "
   ]
  },
  {
   "cell_type": "code",
   "execution_count": 26,
   "id": "b27ca7e0",
   "metadata": {},
   "outputs": [
    {
     "name": "stdout",
     "output_type": "stream",
     "text": [
      "Name Counts:\n",
      "subhasish: 1\n",
      "sohel : 1\n",
      "shnatanu: 1\n",
      "nayan : 1\n"
     ]
    }
   ],
   "source": [
    "# Open the file in read mode\n",
    "with open(\"names.txt\", \"r\") as file:\n",
    "    # Read names from the file and split them into a list\n",
    "    names_list = file.read().splitlines()\n",
    "\n",
    "# Create a dictionary to store name counts\n",
    "name_counts = {}\n",
    "\n",
    "# Count occurrences of each name\n",
    "for name in names_list:\n",
    "    name_counts[name] = name_counts.get(name, 0) + 1\n",
    "\n",
    "# Print the results\n",
    "print(\"Name Counts:\")\n",
    "for name, count in name_counts.items():\n",
    "    print(f\"{name}: {count}\")\n"
   ]
  },
  {
   "cell_type": "markdown",
   "id": "80a3c15d",
   "metadata": {},
   "source": [
    "# 13. Write a program that takes a list of numbers (for example, a = [5, 10, 15, 20, 25])\n",
    "and makes a new list of only the first and last elements of the given list and makes a\n",
    "new list of only the first.\n"
   ]
  },
  {
   "cell_type": "code",
   "execution_count": 33,
   "id": "3d240fcc",
   "metadata": {},
   "outputs": [
    {
     "name": "stdout",
     "output_type": "stream",
     "text": [
      "[5, 10, 15, 20, 25]\n",
      "[(5, 25)]\n"
     ]
    }
   ],
   "source": [
    "c = [5, 10, 15, 20, 25]\n",
    "print (c)\n",
    "def firstLast (a):\n",
    "    new_list = [(a[0],a[-1])]\n",
    "    print (new_list)\n",
    "firstLast(c)"
   ]
  },
  {
   "cell_type": "markdown",
   "id": "dcf1c93a",
   "metadata": {},
   "source": [
    "# 14. Write a program that accepts sequence of lines as input and prints the lines after\n",
    "making all characters in the sentence capitalized. "
   ]
  },
  {
   "cell_type": "code",
   "execution_count": 41,
   "id": "f1dfa044",
   "metadata": {},
   "outputs": [
    {
     "name": "stdout",
     "output_type": "stream",
     "text": [
      "Enter a line (or press Enter to finish): subhaish\n",
      "subhaish\n",
      "Capitalized : SUBHAISH\n"
     ]
    }
   ],
   "source": [
    "l = input(\"Enter a line (or press Enter to finish): \")\n",
    "c_line=l.upper()\n",
    "print(l)\n",
    "print(\"Capitalized :\",c_line)"
   ]
  },
  {
   "cell_type": "markdown",
   "id": "f1b60dfc",
   "metadata": {},
   "source": [
    "# 15. Write a program that accepts a sentence and calculate the number of letters and digits."
   ]
  },
  {
   "cell_type": "code",
   "execution_count": 43,
   "id": "5627f2cd",
   "metadata": {},
   "outputs": [
    {
     "name": "stdout",
     "output_type": "stream",
     "text": [
      "Input a string: shantanu pandit 9422\n",
      "Letters 14\n",
      "Digits 4\n"
     ]
    }
   ],
   "source": [
    "s = input(\"Input a string: \")\n",
    "d=l=0\n",
    "for c in s:\n",
    "    if c.isdigit():\n",
    "        d=d+1\n",
    "    elif c.isalpha():\n",
    "        l=l+1\n",
    "    else:\n",
    "            pass\n",
    "print(\"Letters\", l)\n",
    "print(\"Digits\", d)"
   ]
  },
  {
   "cell_type": "markdown",
   "id": "69eb5bc4",
   "metadata": {},
   "source": [
    "# 16. Write a program that accepts a sentence and calculate the number of upper case\n",
    "letters and lower case letters"
   ]
  },
  {
   "cell_type": "code",
   "execution_count": 46,
   "id": "2ace53dd",
   "metadata": {},
   "outputs": [
    {
     "name": "stdout",
     "output_type": "stream",
     "text": [
      "Enter a sentence: SUBHASISH karmakar\n",
      "Uppercase letters: 9\n",
      "Lowercase letters: 8\n"
     ]
    }
   ],
   "source": [
    "sentence = input(\"Enter a sentence: \")\n",
    "uppercase_count = 0\n",
    "lowercase_count = 0\n",
    "for char in sentence:\n",
    "    if char.isupper():\n",
    "        uppercase_count += 1\n",
    "    elif char.islower():\n",
    "        lowercase_count += 1\n",
    "print(\"Uppercase letters:\",uppercase_count)\n",
    "print(\"Lowercase letters:\",lowercase_count)\n"
   ]
  },
  {
   "cell_type": "markdown",
   "id": "3b3ff2ef",
   "metadata": {},
   "source": [
    "# 17. Write a Python function to calculate the factorial of a number (a non-negative\n",
    "integer). The function accepts the number as an argument."
   ]
  },
  {
   "cell_type": "code",
   "execution_count": 50,
   "id": "71f4e3bb",
   "metadata": {},
   "outputs": [
    {
     "name": "stdout",
     "output_type": "stream",
     "text": [
      "Enter a non-negative integer: 4\n",
      "The factorial of 4 is 24.\n"
     ]
    }
   ],
   "source": [
    "def factorial(n):\n",
    "    if n < 0:\n",
    "        return \"Factorial is undefined for negative numbers\"\n",
    "    elif n == 0:\n",
    "        return 1\n",
    "    else:\n",
    "        return n * factorial(n - 1)\n",
    "\n",
    "num = int(input(\"Enter a non-negative integer: \"))\n",
    "result = factorial(num)\n",
    "\n",
    "if type(result) == int:\n",
    "    print(f\"The factorial of {num} is {result}.\")\n",
    "else:\n",
    "    print(result)\n"
   ]
  },
  {
   "cell_type": "markdown",
   "id": "1126036e",
   "metadata": {},
   "source": [
    "# 18:Write a Python program to count the number of lines in a text file."
   ]
  },
  {
   "cell_type": "code",
   "execution_count": 51,
   "id": "7db41048",
   "metadata": {},
   "outputs": [
    {
     "name": "stdout",
     "output_type": "stream",
     "text": [
      "Number of lines in the file: 4\n"
     ]
    }
   ],
   "source": [
    "file_path = 'names.txt'  \n",
    "    with open(file_path, 'r') as file:\n",
    "        line_count = sum(1 for line in file)\n",
    "    print(f\"Number of lines in the file: {line_count}\")\n",
    "except FileNotFoundError:\n",
    "    print(f\"File '{file_path}' not found.\")\n",
    "except Exception as e:\n",
    "    print(f\"An error occurred: {str(e)}\")\n"
   ]
  },
  {
   "cell_type": "markdown",
   "id": "2361781f",
   "metadata": {},
   "source": [
    "# 19. Write a Python program to copy the contents of a file to another file"
   ]
  },
  {
   "cell_type": "code",
   "execution_count": 52,
   "id": "5f9ddc0e",
   "metadata": {},
   "outputs": [
    {
     "name": "stdout",
     "output_type": "stream",
     "text": [
      "Contents copied from 'names.txt' to 'dup.txt'.\n"
     ]
    }
   ],
   "source": [
    "source_file_path = 'names.txt'  \n",
    "destination_file_path = 'dup.txt'  \n",
    "try:\n",
    "    with open(source_file_path, 'r') as source_file:\n",
    "        file_contents = source_file.read()\n",
    "\n",
    "    with open(destination_file_path, 'w') as destination_file:\n",
    "        destination_file.write(file_contents)\n",
    "\n",
    "    print(f\"Contents copied from '{source_file_path}' to '{destination_file_path}'.\")\n",
    "\n",
    "except FileNotFoundError:\n",
    "    print(\"File not found.\")\n",
    "except Exception as e:\n",
    "    print(f\"An error occurred: {str(e)}\")\n"
   ]
  },
  {
   "cell_type": "markdown",
   "id": "e99c9490",
   "metadata": {},
   "source": [
    "# 20. Write a Python program to solve the Fibonacci sequence using recursion.\n"
   ]
  },
  {
   "cell_type": "code",
   "execution_count": 54,
   "id": "77ec28a0",
   "metadata": {},
   "outputs": [
    {
     "name": "stdout",
     "output_type": "stream",
     "text": [
      "Enter end number upto which fibbonci series to print: 5\n",
      "0\n",
      "1\n",
      "1\n",
      "2\n",
      "3\n"
     ]
    }
   ],
   "source": [
    "def fibbonci(n):\n",
    "    if n in {0,1}:\n",
    "        return n\n",
    "    else:\n",
    "        return (fibbonci(n-1)+fibbonci(n-2))\n",
    "no=int(input(\"Enter end number upto which fibbonci series to print: \"))\n",
    "for i in range(0,no,1):\n",
    "    print(fibbonci(i))"
   ]
  },
  {
   "cell_type": "markdown",
   "id": "148f5bbc",
   "metadata": {},
   "source": [
    "# 21. Write a Python class named Circle constructed by a radius and two methods\n",
    "which will compute the area and the perimeter of a circle."
   ]
  },
  {
   "cell_type": "code",
   "execution_count": 58,
   "id": "d318b114",
   "metadata": {},
   "outputs": [
    {
     "name": "stdout",
     "output_type": "stream",
     "text": [
      "Enter the radius of the circle: 5\n",
      "Radius: 5.0\n",
      "Area: 78.54\n",
      "Perimeter: 31.42\n"
     ]
    }
   ],
   "source": [
    "import math\n",
    "\n",
    "class Circle:\n",
    "    def __init__(self, radius):\n",
    "        self.radius = radius\n",
    "\n",
    "    def area(self):\n",
    "        return math.pi * self.radius**2\n",
    "\n",
    "    def perimeter(self):\n",
    "        return 2 * math.pi * self.radius\n",
    "\n",
    "# Example usage:\n",
    "radius = float(input(\"Enter the radius of the circle: \"))\n",
    "my_circle = Circle(radius)\n",
    "\n",
    "circle_area = my_circle.area()\n",
    "circle_perimeter = my_circle.perimeter()\n",
    "\n",
    "print(f\"Radius: {my_circle.radius}\")\n",
    "print(f\"Area: {circle_area:.2f}\")\n",
    "print(f\"Perimeter: {circle_perimeter:.2f}\")\n"
   ]
  },
  {
   "cell_type": "code",
   "execution_count": null,
   "id": "5ba0aa4c",
   "metadata": {},
   "outputs": [],
   "source": []
  }
 ],
 "metadata": {
  "kernelspec": {
   "display_name": "Python 3 (ipykernel)",
   "language": "python",
   "name": "python3"
  },
  "language_info": {
   "codemirror_mode": {
    "name": "ipython",
    "version": 3
   },
   "file_extension": ".py",
   "mimetype": "text/x-python",
   "name": "python",
   "nbconvert_exporter": "python",
   "pygments_lexer": "ipython3",
   "version": "3.10.9"
  }
 },
 "nbformat": 4,
 "nbformat_minor": 5
}
